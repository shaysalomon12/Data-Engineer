{
 "cells": [
  {
   "attachments": {},
   "cell_type": "markdown",
   "metadata": {},
   "source": [
    "MongoDB Server Status"
   ]
  },
  {
   "cell_type": "code",
   "execution_count": null,
   "metadata": {},
   "outputs": [],
   "source": [
    "# MongoDB Server Status\n",
    "import pymongo\n",
    "from pymongo import MongoClient\n",
    "from pprint import pprint\n",
    "\n",
    "# Connect to MongoDB\n",
    "client = pymongo.MongoClient(\"mongodb://172.17.30.23:27017/\", serverSelectionTimeoutMS=3000, username=\"sa\", password=\"global11!\")\n",
    "\n",
    "# Get the database performance metrics\n",
    "server_info = client.admin.command(\"serverStatus\")\n",
    "\n",
    "# Print the performance metrics\n",
    "pprint(server_info)"
   ]
  },
  {
   "attachments": {},
   "cell_type": "markdown",
   "metadata": {},
   "source": [
    "MongoDB Top Queries\n",
    "\n",
    "To verify that the system.profile collection is enabled in MongoDB 4.4, you can use the following steps:\n",
    "\n",
    "Connect to your MongoDB instance:\n",
    "\n",
    "> use <database_name>\n",
    "Use the db.getProfilingStatus() method to get the current profiling status:\n",
    "\n",
    "> db.getProfilingStatus()\n",
    "Check the returned document for the profilingLevel field:\n",
    "\n",
    "{\n",
    "    \"was\" : 0,\n",
    "    \"slowms\" : 100,\n",
    "    \"sampleRate\" : 1,\n",
    "    \"level\" : 0,\n",
    "    \"ns\" : \"test.coll\"\n",
    "}\n",
    "If level is set to 0, the profiler is off and the system.profile collection is not being populated.\n",
    "If level is set to 1, the profiler is logging slow operations and the system.profile collection may contain profile documents.\n",
    "If level is set to 2, the profiler is logging all operations and the system.profile collection will contain profile documents for all operations.\n",
    "If the system.profile collection is not enabled, you can enable it by setting the profiler level to 1 or 2 using the db.setProfilingLevel() method.\n",
    "\n",
    "\n",
    "This will enable the profiler and start logging slow operations that executes more than 50ms to the system.profile collection:\n",
    "> db.setProfilingLevel(1, { slowms: 50 })\n",
    "{ was: 1, slowms: 50, sampleRate: 1, ok: 1 }"
   ]
  },
  {
   "cell_type": "code",
   "execution_count": null,
   "metadata": {},
   "outputs": [],
   "source": [
    "import pymongo\n",
    "from pymongo import MongoClient\n",
    "from pprint import pprint\n",
    "import pandas as pd\n",
    "\n",
    "# Connect to MongoDB\n",
    "client = pymongo.MongoClient(\"mongodb://172.17.30.23:27017/\", serverSelectionTimeoutMS=3000, username=\"sa\", password=\"global11!\")\n",
    "\n",
    "# Get the performance database\n",
    "perf_db = client[\"test\"][\"system.profile\"]\n",
    "\n",
    "# Get the top 5 queries in the last 24 hours\n",
    "import datetime\n",
    "time_24hrs_ago = datetime.datetime.now() - datetime.timedelta(hours=24)\n",
    "\n",
    "# List 5 top queries ($limit)\n",
    "top_queries = perf_db.aggregate([\n",
    "    {\"$match\": {\"ts\": {\"$gt\": time_24hrs_ago}}},\n",
    "    {\"$sort\": {\"millis\": -1}},\n",
    "    {\"$limit\": 5}\n",
    "])\n",
    "\n",
    "# Expand the cursor and construct the DataFrame\n",
    "df =  pd.DataFrame(list(top_queries))\n",
    "df\n",
    "\n",
    "# Print full deatils of query one by one\n",
    "#for query in top_queries:\n",
    "#    print (\"---------- New Query --------------------------------\")\n",
    "#    pprint(query)\n",
    "#    pprint(\"                                                      \")\n"
   ]
  },
  {
   "attachments": {},
   "cell_type": "markdown",
   "metadata": {},
   "source": [
    "MongoDB List Databases and Size"
   ]
  },
  {
   "cell_type": "code",
   "execution_count": null,
   "metadata": {},
   "outputs": [],
   "source": [
    "# Databases size bar graph from MongoDB\n",
    "from pymongo import MongoClient\n",
    "import pandas as pd\n",
    "import numpy as np\n",
    "from tabulate import tabulate\n",
    "import matplotlib.pyplot as plt\n",
    "\n",
    "# MongoDB connection string\n",
    "myClient = MongoClient(\n",
    "    host='172.17.30.23:27017',\n",
    "    serverSelectionTimeoutMS=3000,\n",
    "    username=\"sa\",\n",
    "    password=\"global11!\"\n",
    ")\n",
    "\n",
    "# Set pandas dataframe with 2 cols\n",
    "df = pd.DataFrame(columns=['database_name','sizeOnDisk'])\n",
    "\n",
    "# Iterate over all databases and populate the dataframe\n",
    "for dbname in enumerate(myClient.list_databases()):\n",
    "    # print(\"database name is : \",dbname) # This is the original tupple\n",
    "    database_name = dbname[1].get('name')\n",
    "    size_on_disk  = dbname[1].get('sizeOnDisk')\n",
    "    # print(\"database: \", database_name, \", Size: \", round(size_on_disk/1024/1024/1024,2), ' GB')\n",
    "    \n",
    "    # Populate the dataframe\n",
    "    record = {'database': database_name, 'sizeOnDisk': size_on_disk }\n",
    "\n",
    "    entry = pd.DataFrame.from_dict({\n",
    "     \"database_name\": [database_name],\n",
    "     \"sizeOnDisk\":  [round(size_on_disk/1024/1024/1024,2)]\n",
    "    })\n",
    "\n",
    "\n",
    "    df = pd.concat([df, entry], ignore_index=True).sort_values(by='sizeOnDisk', ascending=False)\n",
    "\n",
    "# Display in grid using pandas\n",
    "print(df)\n",
    "\n",
    "# Display as graph\n",
    "df.plot(x='database_name', y='sizeOnDisk', kind='bar', title='MongoDB Databases Size', xlabel='Database Name', ylabel='Size On Disk (MB)') \n",
    "plt.show()\n"
   ]
  },
  {
   "attachments": {},
   "cell_type": "markdown",
   "metadata": {},
   "source": [
    "MongoDB Error Log (from cache)"
   ]
  },
  {
   "cell_type": "code",
   "execution_count": 1,
   "metadata": {},
   "outputs": [
    {
     "name": "stdout",
     "output_type": "stream",
     "text": [
      "------------ Start Error No.  8  -----------------------------\n"
     ]
    },
    {
     "ename": "NameError",
     "evalue": "name 'pprint' is not defined",
     "output_type": "error",
     "traceback": [
      "\u001b[1;31m---------------------------------------------------------------------------\u001b[0m",
      "\u001b[1;31mNameError\u001b[0m                                 Traceback (most recent call last)",
      "Cell \u001b[1;32mIn[1], line 44\u001b[0m\n\u001b[0;32m     42\u001b[0m     \u001b[39mif\u001b[39;00m \u001b[39m\"\u001b[39m\u001b[39mSlow query\u001b[39m\u001b[39m\"\u001b[39m \u001b[39min\u001b[39;00m message:\n\u001b[0;32m     43\u001b[0m         \u001b[39mprint\u001b[39m (\u001b[39m'\u001b[39m\u001b[39m------------ Start Error No. \u001b[39m\u001b[39m'\u001b[39m, line, \u001b[39m'\u001b[39m\u001b[39m -----------------------------\u001b[39m\u001b[39m'\u001b[39m)\n\u001b[1;32m---> 44\u001b[0m         pprint(json_object)\n\u001b[0;32m     46\u001b[0m     line \u001b[39m+\u001b[39m\u001b[39m=\u001b[39m \u001b[39m1\u001b[39m\n\u001b[0;32m     48\u001b[0m \u001b[39m# List all 1023 errors\u001b[39;00m\n",
      "\u001b[1;31mNameError\u001b[0m: name 'pprint' is not defined"
     ]
    }
   ],
   "source": [
    "import pymongo\n",
    "from collections import defaultdict\n",
    "import json\n",
    "import pandas as pd\n",
    "import pandasql as ps\n",
    "import duckdb\n",
    "\n",
    "# Connect to MongoDB\n",
    "client = pymongo.MongoClient(\"mongodb://172.17.30.23:27017/\", serverSelectionTimeoutMS=3000, username=\"sa\", password=\"global11!\")\n",
    "\n",
    "# Get the database logs\n",
    "error_logs = client.admin.command({\"getLog\": \"global\"})[\"log\"]\n",
    "\n",
    "line = 1\n",
    "d = []\n",
    "\n",
    "# Build dataframe from error logs \n",
    "for error in error_logs:\n",
    "    # Convert a json_object_string to a dictionary   \n",
    "    json_object = json.loads(error)\n",
    "    Id = json_object[\"id\"]\n",
    "    date1 = json_object[\"t\"]\n",
    "    date2 = date1[\"$date\"]\n",
    "    message = json_object[\"msg\"]\n",
    "    class1 = json_object[\"c\"]\n",
    "    attributes = json_object[\"attr\"]\n",
    "\n",
    "    d.append(\n",
    "            {\n",
    "                'Line': line,\n",
    "                'Id': Id,\n",
    "                'Date': date2[0:19], \n",
    "                'Message': message,\n",
    "                'class': class1,\n",
    "                'Attributes': attributes\n",
    "            }\n",
    "        )\n",
    "\n",
    "    df = pd.DataFrame(d)   \n",
    "\n",
    "    # Print full JSON only for \"Slow query\"\n",
    "    if \"Slow query\" in message:\n",
    "        print ('------------ Start Error No. ', line, ' -----------------------------')\n",
    "        pprint(json_object)\n",
    "\n",
    "    line += 1\n",
    "\n",
    "# List all 1023 errors\n",
    "print(df)\n",
    "\n",
    "# Duplicate df so we can reuse it\n",
    "df.to_dict(\"list\")\n",
    "\n",
    "# Run SQL over pandas dataframe\n",
    "duckdb.query(\"SELECT id, message, count(*) as count FROM df group by id, message\").df()\n",
    "#duckdb.query(\"SELECT * FROM df1 where message = 'Slow query'\").df1()\n",
    "\n"
   ]
  }
 ],
 "metadata": {
  "kernelspec": {
   "display_name": "Python 3",
   "language": "python",
   "name": "python3"
  },
  "language_info": {
   "codemirror_mode": {
    "name": "ipython",
    "version": 3
   },
   "file_extension": ".py",
   "mimetype": "text/x-python",
   "name": "python",
   "nbconvert_exporter": "python",
   "pygments_lexer": "ipython3",
   "version": "3.11.1 (tags/v3.11.1:a7a450f, Dec  6 2022, 19:58:39) [MSC v.1934 64 bit (AMD64)]"
  },
  "orig_nbformat": 4,
  "vscode": {
   "interpreter": {
    "hash": "5c9133ff6adde9d111e966c7fa824b1e1602e0a52f662177340531a2a7eaae1b"
   }
  }
 },
 "nbformat": 4,
 "nbformat_minor": 2
}
