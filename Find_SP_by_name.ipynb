{
 "cells": [
  {
   "cell_type": "markdown",
   "metadata": {},
   "source": [
    "Find SP by name in all SQL Server instances and databases"
   ]
  },
  {
   "cell_type": "code",
   "execution_count": 2,
   "metadata": {},
   "outputs": [
    {
     "name": "stdout",
     "output_type": "stream",
     "text": [
      "sp_WhoIsActive\n",
      "=== Searching for Stored Procedure 'sp_WhoIsActive' in all SQL Server instances ===\n",
      "Connecting to USSQL\n",
      "*** Found 'sp_WhoIsActive' in Server: USSQL, in Database: DBA ***\n",
      "Connecting to BSQL\n",
      "*** Found 'sp_WhoIsActive' in Server: BSQL, in Database: CetStore ***\n",
      "*** Found 'sp_WhoIsActive' in Server: BSQL, in Database: DBA ***\n",
      "Connecting to KSSQL\n",
      "*** Found 'sp_WhoIsActive' in Server: KSSQL, in Database: DBA ***\n",
      "Connecting to ZSSQL\n",
      "*** Found 'sp_WhoIsActive' in Server: ZSSQL, in Database: CetStore ***\n",
      "*** Found 'sp_WhoIsActive' in Server: ZSSQL, in Database: DBA ***\n",
      "Connecting to WSSQL\n",
      "*** Found 'sp_WhoIsActive' in Server: WSSQL, in Database: DBA ***\n",
      "Connecting to SQLCLUST\n",
      "*** Found 'sp_WhoIsActive' in Server: SQLCLUST, in Database: DBA ***\n",
      "Connecting to TESTINGSQL\n",
      "*** Found 'sp_WhoIsActive' in Server: TESTINGSQL, in Database: NairobiContentDB ***\n",
      "Connecting to BIDEV16\n",
      "Connecting to DWH16-AZURE\n",
      "Connecting to BMANBAS\n",
      "Connecting to FSQL2\n",
      "=== Done searching ===\n"
     ]
    }
   ],
   "source": [
    "# Find SP by name in all SQL Server instances and databases\n",
    "import pyodbc\n",
    "import numpy as np\n",
    "import pandas as pd\n",
    "import sqlalchemy as sa\n",
    "from sqlalchemy.engine import URL       # To support pandas\n",
    "from sqlalchemy import create_engine    # To support pandas\n",
    "\n",
    "##########################################\n",
    "# sp_name = 'sp_WhoIsActive'\n",
    "##########################################\n",
    "\n",
    "sp_name = input('Enter SP name')\n",
    "print (sp_name)\n",
    "\n",
    "query1 = \"\"\"select name from sys.databases where database_id > 4 and state != 6 order by 1\"\"\" \n",
    "print(f\"=== Searching for Stored Procedure '{sp_name}' in all SQL Server instances ===\")\n",
    "\n",
    "# Loop over all SQL Server Instances\n",
    "for server in ('USSQL', 'BSQL', 'KSSQL', 'ZSSQL', 'WSSQL', 'SQLCLUST','TESTINGSQL', 'BIDEV16','DWH16-AZURE', 'BMANBAS', 'FSQL2'):\n",
    "    # server parameters\n",
    "    database = 'DBA' \n",
    "    username = 'naya5' \n",
    "    password = '5732@45$DF3!'\n",
    "    conn_string =  'DRIVER={SQL Server};SERVER='+server+';DATABASE='+database+';UID='+username+';PWD='+ password\n",
    "    \n",
    "    conn = pyodbc.connect(conn_string)\n",
    "    conn_url = URL.create(\"mssql+pyodbc\", query={\"odbc_connect\": conn_string}) # To support pandas\n",
    "\n",
    "    # Get databases list\n",
    "    print(f'Connecting to {server}')\n",
    "    engine = sa.create_engine(conn_url)\n",
    "    df1 = pd.read_sql_query(query1, engine)\n",
    "    \n",
    "    # Loop over all databases\n",
    "    for i, database in df1.iterrows():\n",
    "        db_name = database[\"name\"]\n",
    "        # print (db_name)\n",
    "        query2 = \"\"\"SELECT count(1) as count from [\"\"\" + db_name + \"\"\"].sys.procedures where name = '\"\"\" + sp_name + \"\"\"';\"\"\".format(input)\n",
    "        # print(query2)\n",
    "        df2 = pd.read_sql_query(query2, engine)\n",
    "        sp_exists = (df2[\"count\"].iloc[0])\n",
    "        \n",
    "        if sp_exists > 0:\n",
    "            print (f\"*** Found '{sp_name}' in Server: {server}, in Database: {db_name} ***\")\n",
    "       \n",
    "print(\"=== Done searching ===\")   \n",
    "\n"
   ]
  }
 ],
 "metadata": {
  "kernelspec": {
   "display_name": "Python 3",
   "language": "python",
   "name": "python3"
  },
  "language_info": {
   "codemirror_mode": {
    "name": "ipython",
    "version": 3
   },
   "file_extension": ".py",
   "mimetype": "text/x-python",
   "name": "python",
   "nbconvert_exporter": "python",
   "pygments_lexer": "ipython3",
   "version": "3.11.1"
  },
  "orig_nbformat": 4
 },
 "nbformat": 4,
 "nbformat_minor": 2
}
