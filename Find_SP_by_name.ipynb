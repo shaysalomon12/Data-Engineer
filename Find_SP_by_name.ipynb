{
 "cells": [
  {
   "cell_type": "markdown",
   "metadata": {},
   "source": [
    "Find SP by name in all SQL Server instances and databases"
   ]
  },
  {
   "cell_type": "code",
   "execution_count": 1,
   "metadata": {},
   "outputs": [
    {
     "ename": "KeyboardInterrupt",
     "evalue": "Interrupted by user",
     "output_type": "error",
     "traceback": [
      "\u001b[1;31m---------------------------------------------------------------------------\u001b[0m",
      "\u001b[1;31mKeyboardInterrupt\u001b[0m                         Traceback (most recent call last)",
      "Cell \u001b[1;32mIn[1], line 13\u001b[0m\n\u001b[0;32m      7\u001b[0m \u001b[39mfrom\u001b[39;00m \u001b[39msqlalchemy\u001b[39;00m \u001b[39mimport\u001b[39;00m create_engine    \u001b[39m# To support pandas\u001b[39;00m\n\u001b[0;32m      9\u001b[0m \u001b[39m##########################################\u001b[39;00m\n\u001b[0;32m     10\u001b[0m \u001b[39m# sp_name = 'sp_WhoIsActive'\u001b[39;00m\n\u001b[0;32m     11\u001b[0m \u001b[39m##########################################\u001b[39;00m\n\u001b[1;32m---> 13\u001b[0m sp_name \u001b[39m=\u001b[39m \u001b[39minput\u001b[39;49m(\u001b[39m'\u001b[39;49m\u001b[39mEnter SP name\u001b[39;49m\u001b[39m'\u001b[39;49m)\n\u001b[0;32m     14\u001b[0m \u001b[39mprint\u001b[39m (sp_name)\n\u001b[0;32m     16\u001b[0m query1 \u001b[39m=\u001b[39m \u001b[39m\"\"\"\u001b[39m\u001b[39mselect name from sys.databases where database_id > 4 and state != 6 order by 1\u001b[39m\u001b[39m\"\"\"\u001b[39m \n",
      "File \u001b[1;32m~\\AppData\\Roaming\\Python\\Python311\\site-packages\\ipykernel\\kernelbase.py:1187\u001b[0m, in \u001b[0;36mKernel.raw_input\u001b[1;34m(self, prompt)\u001b[0m\n\u001b[0;32m   1185\u001b[0m     msg \u001b[39m=\u001b[39m \u001b[39m\"\u001b[39m\u001b[39mraw_input was called, but this frontend does not support input requests.\u001b[39m\u001b[39m\"\u001b[39m\n\u001b[0;32m   1186\u001b[0m     \u001b[39mraise\u001b[39;00m StdinNotImplementedError(msg)\n\u001b[1;32m-> 1187\u001b[0m \u001b[39mreturn\u001b[39;00m \u001b[39mself\u001b[39;49m\u001b[39m.\u001b[39;49m_input_request(\n\u001b[0;32m   1188\u001b[0m     \u001b[39mstr\u001b[39;49m(prompt),\n\u001b[0;32m   1189\u001b[0m     \u001b[39mself\u001b[39;49m\u001b[39m.\u001b[39;49m_parent_ident[\u001b[39m\"\u001b[39;49m\u001b[39mshell\u001b[39;49m\u001b[39m\"\u001b[39;49m],\n\u001b[0;32m   1190\u001b[0m     \u001b[39mself\u001b[39;49m\u001b[39m.\u001b[39;49mget_parent(\u001b[39m\"\u001b[39;49m\u001b[39mshell\u001b[39;49m\u001b[39m\"\u001b[39;49m),\n\u001b[0;32m   1191\u001b[0m     password\u001b[39m=\u001b[39;49m\u001b[39mFalse\u001b[39;49;00m,\n\u001b[0;32m   1192\u001b[0m )\n",
      "File \u001b[1;32m~\\AppData\\Roaming\\Python\\Python311\\site-packages\\ipykernel\\kernelbase.py:1230\u001b[0m, in \u001b[0;36mKernel._input_request\u001b[1;34m(self, prompt, ident, parent, password)\u001b[0m\n\u001b[0;32m   1227\u001b[0m \u001b[39mexcept\u001b[39;00m \u001b[39mKeyboardInterrupt\u001b[39;00m:\n\u001b[0;32m   1228\u001b[0m     \u001b[39m# re-raise KeyboardInterrupt, to truncate traceback\u001b[39;00m\n\u001b[0;32m   1229\u001b[0m     msg \u001b[39m=\u001b[39m \u001b[39m\"\u001b[39m\u001b[39mInterrupted by user\u001b[39m\u001b[39m\"\u001b[39m\n\u001b[1;32m-> 1230\u001b[0m     \u001b[39mraise\u001b[39;00m \u001b[39mKeyboardInterrupt\u001b[39;00m(msg) \u001b[39mfrom\u001b[39;00m \u001b[39mNone\u001b[39m\n\u001b[0;32m   1231\u001b[0m \u001b[39mexcept\u001b[39;00m \u001b[39mException\u001b[39;00m:\n\u001b[0;32m   1232\u001b[0m     \u001b[39mself\u001b[39m\u001b[39m.\u001b[39mlog\u001b[39m.\u001b[39mwarning(\u001b[39m\"\u001b[39m\u001b[39mInvalid Message:\u001b[39m\u001b[39m\"\u001b[39m, exc_info\u001b[39m=\u001b[39m\u001b[39mTrue\u001b[39;00m)\n",
      "\u001b[1;31mKeyboardInterrupt\u001b[0m: Interrupted by user"
     ]
    }
   ],
   "source": [
    "# Find SP by name in all SQL Server instances and databases\n",
    "import pyodbc\n",
    "import numpy as np\n",
    "import pandas as pd\n",
    "import sqlalchemy as sa\n",
    "from sqlalchemy.engine import URL       # To support pandas\n",
    "from sqlalchemy import create_engine    # To support pandas\n",
    "\n",
    "##########################################\n",
    "# sp_name = 'sp_WhoIsActive'\n",
    "##########################################\n",
    "\n",
    "sp_name = input('Enter SP name')\n",
    "print (sp_name)\n",
    "\n",
    "query1 = \"\"\"select name from sys.databases where database_id > 4 and state != 6 order by 1\"\"\" \n",
    "print(f\"=== Searching for Stored Procedure '{sp_name}' in all SQL Server instances ===\")\n",
    "\n",
    "# Loop over all SQL Server Instances\n",
    "for server in ('USSQL', 'BSQL', 'KSSQL', 'ZSSQL', 'WSSQL', 'SQLCLUST','TESTINGSQL', 'BIDEV16','DWH16-AZURE', 'BMANBAS', 'FSQL2'):\n",
    "    # server parameters\n",
    "    database = 'DBA' \n",
    "    username = 'naya5' \n",
    "    password = '5732@45$DF3!'\n",
    "    conn_string =  'DRIVER={SQL Server};SERVER='+server+';DATABASE='+database+';UID='+username+';PWD='+ password\n",
    "    \n",
    "    conn = pyodbc.connect(conn_string)\n",
    "    conn_url = URL.create(\"mssql+pyodbc\", query={\"odbc_connect\": conn_string}) # To support pandas\n",
    "\n",
    "    # Get databases list\n",
    "    print(f'Connecting to {server}')\n",
    "    engine = sa.create_engine(conn_url)\n",
    "    df1 = pd.read_sql_query(query1, engine)\n",
    "    \n",
    "    # Loop over all databases\n",
    "    for i, database in df1.iterrows():\n",
    "        db_name = database[\"name\"]\n",
    "        # print (db_name)\n",
    "        query2 = \"\"\"SELECT count(1) as count from [\"\"\" + db_name + \"\"\"].sys.procedures where name = '\"\"\" + sp_name + \"\"\"';\"\"\".format(input)\n",
    "        # print(query2)\n",
    "        df2 = pd.read_sql_query(query2, engine)\n",
    "        sp_exists = (df2[\"count\"].iloc[0])\n",
    "        \n",
    "        if sp_exists > 0:\n",
    "            print (f\"*** Found '{sp_name}' in Server: {server}, in Database: {db_name} ***\")\n",
    "       \n",
    "print(\"=== Done searching ===\")   \n",
    "\n"
   ]
  }
 ],
 "metadata": {
  "kernelspec": {
   "display_name": "Python 3",
   "language": "python",
   "name": "python3"
  },
  "language_info": {
   "codemirror_mode": {
    "name": "ipython",
    "version": 3
   },
   "file_extension": ".py",
   "mimetype": "text/x-python",
   "name": "python",
   "nbconvert_exporter": "python",
   "pygments_lexer": "ipython3",
   "version": "3.11.1"
  },
  "orig_nbformat": 4
 },
 "nbformat": 4,
 "nbformat_minor": 2
}
